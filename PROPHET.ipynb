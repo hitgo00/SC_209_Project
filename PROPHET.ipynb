{
  "cells": [
    {
      "cell_type": "code",
      "metadata": {
        "id": "e81AKbt7_ddx",
        "colab_type": "code",
        "colab": {}
      },
      "source": [
        "import pandas as pd\n",
        "import numpy as np\n",
        "import matplotlib.pyplot as plt\n",
        "from fbprophet import Prophet"
      ],
      "execution_count": 0,
      "outputs": []
    },
    {
      "cell_type": "code",
      "metadata": {
        "id": "CfLMR2Q4_dd2",
        "colab_type": "code",
        "colab": {}
      },
      "source": [
        "NDVI = pd.read_excel(\"./Used Datasets/NDvi2011-2020.xlsx\", infer_datetime_formate=True)\n",
        "PET = pd.read_excel(\"./Used Datasets/pet_2010_2020_Scale0.1.xlsx\", infer_datetime_format=True)\n",
        "SolRad = pd.read_excel(\"./Used Datasets/Srad2010-20.xlsx\")\n",
        "AET = pd.read_excel(\"./Used Datasets/aet_2010_2020_Scale0.1.xlsx\")\n",
        "Tmin = pd.read_excel(\"./Used Datasets/tmin.xlsx\")\n",
        "Tmax = pd.read_excel(\"./Used Datasets/tmax.xlsx\")\n",
        "co2 = pd.read_csv(\"./Used Datasets/co2_trend_gl_re.txt\", delim_whitespace=True)"
      ],
      "execution_count": 0,
      "outputs": []
    },
    {
      "cell_type": "code",
      "metadata": {
        "id": "twScwmMX_dd4",
        "colab_type": "code",
        "colab": {}
      },
      "source": [
        "PAR = np.array(SolRad.values[8 :, 1], dtype=int)*0.1*0.47\n",
        "NdviArray = np.array(NDVI.values[: -10, 1], dtype=float)\n",
        "Tavg = (np.array(Tmin.values[8 :, 1], dtype=float) + np.array(Tmax.values[8 :, 1], dtype=float))/20\n",
        "CO2 = co2.values[:, 3]\n",
        "W = 0.5 + (np.array(AET.values[17 :,1], dtype=int)/np.array(PET.values[17 :, 1], dtype=int))"
      ],
      "execution_count": 0,
      "outputs": []
    },
    {
      "cell_type": "code",
      "metadata": {
        "id": "k3aCjpz6_dd7",
        "colab_type": "code",
        "colab": {}
      },
      "source": [
        "W_new = np.zeros(W.size*2, dtype=float)\n",
        "Tavg_new = np.zeros(Tavg.size*2, dtype=float)\n",
        "PAR_new = np.zeros(PAR.size*2, dtype=float)\n",
        "for i in range(Tavg.size):\n",
        "    W_new[2*i] = W[i]\n",
        "    Tavg_new[2*i] = Tavg[i]\n",
        "    PAR_new[i*2] = PAR[i]\n",
        "    if 2*(i+1)<Tavg_new.size:\n",
        "        Tavg_new[2*i+1] = (Tavg[i]+Tavg[i+1])/2\n",
        "        W_new[2*i+1] = (W[i]+W[i+1])/2\n",
        "        PAR_new[2*i+1] = (PAR[i]+PAR[i+1])/2\n",
        "Tavg_new[-1] = (Tavg_new[-24]+Tavg_new[-48])/2\n",
        "W_new[-1] = (W_new[-24]+W_new[-48])/2\n",
        "PAR_new[-1] = (PAR_new[-24]+PAR_new[-48])/2"
      ],
      "execution_count": 0,
      "outputs": []
    },
    {
      "cell_type": "markdown",
      "metadata": {
        "id": "Pxg1lY8a_dd9",
        "colab_type": "text"
      },
      "source": [
        "W_new = np.zeros(W.size*2, dtype=float)\n",
        "Tavg_new=np.zeros(Tavg.size*2, dtype=float)\n",
        "PAR_new = np.zeros(PAR.size*2, dtype=float)\n",
        "for i in range(Tavg.size):\n",
        "    Tavg_new[2*i]=Tavg[i]\n",
        "    Tavg_new[2*i+1]=Tavg[i]\n",
        "    W_new[2*i] = W[i]\n",
        "    W_new[2*i+1] = W[i]\n",
        "    PAR_new[i*2] = PAR[i]\n",
        "    PAR_new[i*2+1] = PAR[i]"
      ]
    },
    {
      "cell_type": "code",
      "metadata": {
        "id": "8U1GRzrr_dd_",
        "colab_type": "code",
        "colab": {}
      },
      "source": [
        "Topt = Tavg_new[-6]\n",
        "Tmon = Tavg_new\n",
        "T1 = 0.8 + 0.02*Topt - 0.0005*Topt**2\n",
        "T2 = 1.185/((1+np.exp(0.2*(Topt-10-Tmon)))*(1+np.exp(0.3*(-Topt-10+Tmon))))\n",
        "LUE = 2.5*T1*T2*W_new\n",
        "NPP = NdviArray*PAR_new*LUE\n",
        "CO2_trend = co2.values[:, 4]"
      ],
      "execution_count": 0,
      "outputs": []
    },
    {
      "cell_type": "code",
      "metadata": {
        "id": "Ce9TwRz9_deC",
        "colab_type": "code",
        "colab": {}
      },
      "source": [
        "Tyear=np.zeros(8)\n",
        "#Tmax1 = Tmax.values[8 :, 1]\n",
        "for i in range(8):\n",
        "    Tyear[i] = np.sum(Tavg_new[i*24 + 10 : i*24+34])/24\n",
        "#Tyear[0] = np.sum(Tavg_new[: 10])/10"
      ],
      "execution_count": 0,
      "outputs": []
    },
    {
      "cell_type": "code",
      "metadata": {
        "id": "I2jrGFucEHHn",
        "colab_type": "code",
        "colab": {}
      },
      "source": [
        "df_pr = NDVI.copy()\n",
        "df_pr = df_pr.drop(index=df_pr.index[-10 :], columns='NDVI')\n",
        "df_pr['NPP'] = NPP\n",
        "df_pr.DateTime = pd.to_datetime(df_pr.DateTime, yearfirst=True)\n",
        "df_pr = df_pr.set_index(\"DateTime\")\n",
        "df_pr = df_pr.reset_index()\n",
        "df_pr.columns = ['ds','y']\n",
        "train_data_pr = df_pr.iloc[:len(df_pr)-12]\n",
        "test_data_pr = df_pr.iloc[len(df_pr)-12:]"
      ],
      "execution_count": 0,
      "outputs": []
    },
    {
      "cell_type": "code",
      "metadata": {
        "id": "RhYdUxwKDtd9",
        "colab_type": "code",
        "outputId": "cb51043f-c8cb-43aa-b180-57e9120fc732",
        "colab": {
          "base_uri": "https://localhost:8080/",
          "height": 67
        }
      },
      "source": [
        "m = Prophet()\n",
        "m.fit(train_data_pr)\n",
        "future = m.make_future_dataframe(periods=12,freq='MS')\n",
        "prophet_pred = m.predict(future)"
      ],
      "execution_count": 0,
      "outputs": [
        {
          "output_type": "stream",
          "text": [
            "INFO:numexpr.utils:NumExpr defaulting to 2 threads.\n",
            "INFO:fbprophet:Disabling weekly seasonality. Run prophet with weekly_seasonality=True to override this.\n",
            "INFO:fbprophet:Disabling daily seasonality. Run prophet with daily_seasonality=True to override this.\n"
          ],
          "name": "stderr"
        }
      ]
    },
    {
      "cell_type": "code",
      "metadata": {
        "id": "jL2pVmA6D0jx",
        "colab_type": "code",
        "colab": {}
      },
      "source": [
        "prophet_pred = pd.DataFrame({\"Date\" : prophet_pred[-12:]['ds'], \"Pred\" : prophet_pred[-12:][\"yhat\"]})\n",
        "prophet_pred = prophet_pred.set_index(\"Date\")\n",
        "prophet_pred.index.freq = \"MS\""
      ],
      "execution_count": 0,
      "outputs": []
    },
    {
      "cell_type": "code",
      "metadata": {
        "id": "SehawWGAL-ob",
        "colab_type": "code",
        "outputId": "d008c24d-cd5f-4cea-a4f0-4ced52e2cc1e",
        "colab": {
          "base_uri": "https://localhost:8080/",
          "height": 265
        }
      },
      "source": [
        "f = plt.figure()\n",
        "ax = f.add_subplot(111)\n",
        "ax.plot(test_data_pr['y'].values, label=\"Actual data\")\n",
        "ax.plot(prophet_pred['Pred'].values, label=\"Predicted data\")\n",
        "ax.legend()\n",
        "\n",
        "f.show()"
      ],
      "execution_count": 0,
      "outputs": [
        {
          "output_type": "display_data",
          "data": {
            "image/png": "[encoded data removed]",
            "text/plain": [
              "<Figure size 432x288 with 1 Axes>"
            ]
          },
          "metadata": {
            "tags": [],
            "needs_background": "light"
          }
        }
      ]
    },
    {
      "cell_type": "code",
      "metadata": {
        "id": "k13B-UZtMSGH",
        "colab_type": "code",
        "outputId": "d473eae3-0574-480a-abd7-32fefea3be60",
        "colab": {
          "base_uri": "https://localhost:8080/",
          "height": 402
        }
      },
      "source": [
        "test_data_pr"
      ],
      "execution_count": 0,
      "outputs": [
        {
          "output_type": "execute_result",
          "data": {
            "text/html": [
              "<div>\n",
              "<style scoped>\n",
              "    .dataframe tbody tr th:only-of-type {\n",
              "        vertical-align: middle;\n",
              "    }\n",
              "\n",
              "    .dataframe tbody tr th {\n",
              "        vertical-align: top;\n",
              "    }\n",
              "\n",
              "    .dataframe thead th {\n",
              "        text-align: right;\n",
              "    }\n",
              "</style>\n",
              "<table border=\"1\" class=\"dataframe\">\n",
              "  <thead>\n",
              "    <tr style=\"text-align: right;\">\n",
              "      <th></th>\n",
              "      <th>ds</th>\n",
              "      <th>y</th>\n",
              "    </tr>\n",
              "  </thead>\n",
              "  <tbody>\n",
              "    <tr>\n",
              "      <th>194</th>\n",
              "      <td>2019-07-08</td>\n",
              "      <td>59.139912</td>\n",
              "    </tr>\n",
              "    <tr>\n",
              "      <th>195</th>\n",
              "      <td>2019-07-22</td>\n",
              "      <td>23.713952</td>\n",
              "    </tr>\n",
              "    <tr>\n",
              "      <th>196</th>\n",
              "      <td>2019-08-08</td>\n",
              "      <td>27.493029</td>\n",
              "    </tr>\n",
              "    <tr>\n",
              "      <th>197</th>\n",
              "      <td>2019-08-22</td>\n",
              "      <td>40.592917</td>\n",
              "    </tr>\n",
              "    <tr>\n",
              "      <th>198</th>\n",
              "      <td>2019-09-08</td>\n",
              "      <td>43.538575</td>\n",
              "    </tr>\n",
              "    <tr>\n",
              "      <th>199</th>\n",
              "      <td>2019-09-22</td>\n",
              "      <td>117.365370</td>\n",
              "    </tr>\n",
              "    <tr>\n",
              "      <th>200</th>\n",
              "      <td>2019-10-08</td>\n",
              "      <td>178.115364</td>\n",
              "    </tr>\n",
              "    <tr>\n",
              "      <th>201</th>\n",
              "      <td>2019-10-22</td>\n",
              "      <td>137.775549</td>\n",
              "    </tr>\n",
              "    <tr>\n",
              "      <th>202</th>\n",
              "      <td>2019-11-08</td>\n",
              "      <td>78.064415</td>\n",
              "    </tr>\n",
              "    <tr>\n",
              "      <th>203</th>\n",
              "      <td>2019-11-22</td>\n",
              "      <td>51.986095</td>\n",
              "    </tr>\n",
              "    <tr>\n",
              "      <th>204</th>\n",
              "      <td>2019-12-08</td>\n",
              "      <td>42.873358</td>\n",
              "    </tr>\n",
              "    <tr>\n",
              "      <th>205</th>\n",
              "      <td>2019-12-22</td>\n",
              "      <td>32.693156</td>\n",
              "    </tr>\n",
              "  </tbody>\n",
              "</table>\n",
              "</div>"
            ],
            "text/plain": [
              "            ds           y\n",
              "194 2019-07-08   59.139912\n",
              "195 2019-07-22   23.713952\n",
              "196 2019-08-08   27.493029\n",
              "197 2019-08-22   40.592917\n",
              "198 2019-09-08   43.538575\n",
              "199 2019-09-22  117.365370\n",
              "200 2019-10-08  178.115364\n",
              "201 2019-10-22  137.775549\n",
              "202 2019-11-08   78.064415\n",
              "203 2019-11-22   51.986095\n",
              "204 2019-12-08   42.873358\n",
              "205 2019-12-22   32.693156"
            ]
          },
          "metadata": {
            "tags": []
          },
          "execution_count": 11
        }
      ]
    },
    {
      "cell_type": "code",
      "metadata": {
        "id": "a4xdKLAVNPFZ",
        "colab_type": "code",
        "colab": {}
      },
      "source": [
        ""
      ],
      "execution_count": 0,
      "outputs": []
    }
  ],
  "metadata": {
    "orig_nbformat": 2,
    "kernelspec": {
      "name": "python3",
      "display_name": "Python 3"
    },
    "colab": {
      "name": "PROPHET.ipynb",
      "provenance": [],
      "collapsed_sections": [],
      "toc_visible": true
    }
  },
  "nbformat": 4,
  "nbformat_minor": 0
}