{
 "nbformat": 4,
 "nbformat_minor": 2,
 "metadata": {
  "language_info": {
   "name": "python",
   "codemirror_mode": {
    "name": "ipython",
    "version": 3
   },
   "version": "3.7.6-final"
  },
  "orig_nbformat": 2,
  "file_extension": ".py",
  "mimetype": "text/x-python",
  "name": "python",
  "npconvert_exporter": "python",
  "pygments_lexer": "ipython3",
  "version": 3,
  "kernelspec": {
   "name": "python37664bitvenvvenvdaf78e820f154e828604206085409f43",
   "display_name": "Python 3.7.6 64-bit ('venv': venv)"
  }
 },
 "cells": [
  {
   "cell_type": "code",
   "execution_count": 2,
   "metadata": {},
   "outputs": [],
   "source": [
    "import pandas as pd\n",
    "import numpy as np"
   ]
  },
  {
   "cell_type": "code",
   "execution_count": 17,
   "metadata": {},
   "outputs": [],
   "source": [
    "NDVI = pd.read_excel(\"NDvI2011-2020.xlsx\")\n",
    "PET = pd.read_excel(\"pet_2010_2020_Scale0.1.xlsx\", infer_datetime_format=True)\n",
    "SolRad = pd.read_excel(\"Srad2010-20.xlsx\")\n",
    "AET = pd.read_excel(\"aet_2010_2020_Scale0.1.xlsx\")"
   ]
  },
  {
   "cell_type": "code",
   "execution_count": 13,
   "metadata": {},
   "outputs": [],
   "source": [
    "W = 0.5 + (np.array(AET.values[:,1], dtype=int)/np.array(PET.values[:, 1], dtype=int))\n",
    "W = W.reshape((W.size,1))"
   ]
  },
  {
   "cell_type": "code",
   "execution_count": 36,
   "metadata": {},
   "outputs": [],
   "source": [
    "PAR = np.array(SolRad.values[:, 1], dtype=int)/20\n",
    "NdviArray = np.array(NDVI.values[:, 1], dtype=float)"
   ]
  },
  {
   "cell_type": "code",
   "execution_count": 38,
   "metadata": {},
   "outputs": [],
   "source": [
    "Fr = (NdviArray-np.min(NdviArray))/(np.max(NdviArray)-np.min(NdviArray))"
   ]
  },
  {
   "cell_type": "code",
   "execution_count": null,
   "metadata": {},
   "outputs": [],
   "source": []
  }
 ]
}